{
 "cells": [
  {
   "cell_type": "code",
   "execution_count": 1,
   "metadata": {},
   "outputs": [
    {
     "name": "stdout",
     "output_type": "stream",
     "text": [
      "3 primeiros colocados: ['Real Madrid', 'Barcelona', 'Atlético de Madrid']\n",
      "Últimos 2 colocados: ['Real Sociedad', 'Sevilla']\n",
      "Times em ordem alfabética: ['Atlético de Madrid', 'Barcelona', 'Real Madrid', 'Real Sociedad', 'Sevilla']\n",
      "O Barcelona está na posição 2 da tabela.\n"
     ]
    }
   ],
   "source": [
    "# Exercício 1\n",
    "\n",
    "# Criando a lista com os 5 primeiros colocados do Campeonato Espanhol\n",
    "times = ['Real Madrid', 'Barcelona', 'Atlético de Madrid', 'Real Sociedad', 'Sevilla']\n",
    "\n",
    "# a) Mostrar apenas os 3 primeiros colocados\n",
    "tres_primeiros = times[:3]\n",
    "print(\"3 primeiros colocados:\", tres_primeiros)\n",
    "\n",
    "# b) Mostrar os últimos 2 colocados\n",
    "ultimos_dois = times[-2:]\n",
    "print(\"Últimos 2 colocados:\", ultimos_dois)\n",
    "\n",
    "# c) Criar uma lista com os times em ordem alfabética\n",
    "times_alfabetica = sorted(times)\n",
    "print(\"Times em ordem alfabética:\", times_alfabetica)\n",
    "\n",
    "# d) Verificar em que posição da tabela se encontra o Barcelona\n",
    "posicao_barcelona = times.index('Barcelona') + 1  # Somando 1 para tornar a contagem 1-indexada\n",
    "print(f\"O Barcelona está na posição {posicao_barcelona} da tabela.\")\n"
   ]
  },
  {
   "cell_type": "code",
   "execution_count": 2,
   "metadata": {},
   "outputs": [
    {
     "name": "stdout",
     "output_type": "stream",
     "text": [
      "Modelos de smartphones disponíveis no total: {'Motorola Edge', 'Samsung Galaxy S22', 'Xiaomi 12', 'Samsung Galaxy S21', 'iPhone 14'}\n",
      "Modelos disponíveis em ambas as lojas: {'iPhone 14'}\n"
     ]
    }
   ],
   "source": [
    "# Exercício 2\n",
    "\n",
    "# Criando os conjuntos para as lojas\n",
    "loja_1 = {'iPhone 14', 'Samsung Galaxy S22', 'Xiaomi 12'}\n",
    "loja_2 = {'iPhone 14', 'Samsung Galaxy S21', 'Motorola Edge'}\n",
    "\n",
    "# a) Mostrar os modelos no total (união dos dois conjuntos)\n",
    "# A união de conjuntos mostra todos os modelos disponíveis nas duas lojas, sem repetir.\n",
    "todos_modelos = loja_1.union(loja_2)\n",
    "print(\"Modelos de smartphones disponíveis no total:\", todos_modelos)\n",
    "\n",
    "# b) Mostrar quais modelos estão disponíveis em ambas as lojas (interseção dos dois conjuntos)\n",
    "# A interseção mostra os modelos disponíveis em ambas as lojas.\n",
    "modelos_comum = loja_1.intersection(loja_2)\n",
    "print(\"Modelos disponíveis em ambas as lojas:\", modelos_comum)\n"
   ]
  },
  {
   "cell_type": "code",
   "execution_count": 3,
   "metadata": {},
   "outputs": [
    {
     "name": "stdout",
     "output_type": "stream",
     "text": [
      "\n",
      "Conteúdo do dicionário do aluno:\n",
      "{'nome': 'Alexandre ', 'media': 90.0, 'situacao': 'AP'}\n"
     ]
    }
   ],
   "source": [
    "# Exercício 3\n",
    "\n",
    "# Criando o dicionário para armazenar as informações do aluno\n",
    "aluno = {}\n",
    "\n",
    "# Lendo o nome e a média do aluno\n",
    "aluno['nome'] = input(\"Digite o nome do aluno: \")\n",
    "aluno['media'] = float(input(f\"Digite a média de {aluno['nome']}: \"))\n",
    "\n",
    "# Atribuindo a situação final (AP ou RP) com base na média\n",
    "if aluno['media'] >= 50:\n",
    "    aluno['situacao'] = 'AP'  # Aprovado\n",
    "else:\n",
    "    aluno['situacao'] = 'RP'  # Reprovado\n",
    "\n",
    "# Mostrando o conteúdo do dicionário\n",
    "print(\"\\nConteúdo do dicionário do aluno:\")\n",
    "print(aluno)\n"
   ]
  },
  {
   "cell_type": "code",
   "execution_count": null,
   "metadata": {},
   "outputs": [
    {
     "name": "stdout",
     "output_type": "stream",
     "text": [
      "A pessoa mais pesada é Fernando com 80.0 kg.\n",
      "A pessoa mais leve é Alexandre com 70.0 kg.\n"
     ]
    }
   ],
   "source": [
    "# Exercício 4\n",
    "\n",
    "# Criando listas para armazenar os nomes e pesos das pessoas\n",
    "nomes = []\n",
    "pesos = []\n",
    "\n",
    "# Lendo os dados de 3 pessoas\n",
    "for i in range(3):\n",
    "    nome = input(f\"Digite o nome da pessoa {i+1}: \")\n",
    "    peso = float(input(f\"Digite o peso de {nome}: \"))\n",
    "    nomes.append(nome)\n",
    "    pesos.append(peso)\n",
    "\n",
    "# Encontrando a pessoa mais pesada e a mais leve\n",
    "indice_mais_pesada = pesos.index(max(pesos))  # Índice da pessoa mais pesada\n",
    "indice_mais_leve = pesos.index(min(pesos))    # Índice da pessoa mais leve\n",
    "\n",
    "# Exibindo o resultado\n",
    "print(f\"A pessoa mais pesada é {nomes[indice_mais_pesada]} com {pesos[indice_mais_pesada]} kg.\")\n",
    "print(f\"A pessoa mais leve é {nomes[indice_mais_leve]} com {pesos[indice_mais_leve]} kg.\")\n",
    "\n",
    "\n"
   ]
  },
  {
   "cell_type": "code",
   "execution_count": 6,
   "metadata": {},
   "outputs": [
    {
     "name": "stdout",
     "output_type": "stream",
     "text": [
      "\n",
      "Média de idade do grupo: 20.50 anos\n",
      "Quantidade de mulheres com menos de 20 anos: 0\n"
     ]
    }
   ],
   "source": [
    "# Exercício 5\n",
    "\n",
    "# Inicializando variáveis\n",
    "total_idade = 0\n",
    "mulheres_menos_20 = 0\n",
    "quantidade_pessoas = int(input(\"Digite o número de pessoas: \"))\n",
    "\n",
    "# Lendo os dados de cada pessoa\n",
    "for i in range(quantidade_pessoas):\n",
    "    nome = input(f\"Digite o nome da pessoa {i+1}: \")\n",
    "    idade = int(input(f\"Digite a idade de {nome}: \"))\n",
    "    sexo = input(f\"Digite o sexo de {nome} (M/F): \").strip().upper()\n",
    "\n",
    "    # Calculando a média de idade\n",
    "    total_idade += idade\n",
    "\n",
    "    # Contando mulheres com menos de 20 anos\n",
    "    if sexo == 'F' and idade < 20:\n",
    "        mulheres_menos_20 += 1\n",
    "\n",
    "# Calculando a média de idade\n",
    "media_idade = total_idade / quantidade_pessoas\n",
    "\n",
    "# Exibindo os resultados\n",
    "print(f\"\\nMédia de idade do grupo: {media_idade:.2f} anos\")\n",
    "print(f\"Quantidade de mulheres com menos de 20 anos: {mulheres_menos_20}\")\n"
   ]
  }
 ],
 "metadata": {
  "kernelspec": {
   "display_name": "Python 3",
   "language": "python",
   "name": "python3"
  },
  "language_info": {
   "codemirror_mode": {
    "name": "ipython",
    "version": 3
   },
   "file_extension": ".py",
   "mimetype": "text/x-python",
   "name": "python",
   "nbconvert_exporter": "python",
   "pygments_lexer": "ipython3",
   "version": "3.13.0"
  }
 },
 "nbformat": 4,
 "nbformat_minor": 2
}
