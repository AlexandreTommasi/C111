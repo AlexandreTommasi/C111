{
 "cells": [
  {
   "cell_type": "code",
   "execution_count": null,
   "metadata": {},
   "outputs": [
    {
     "name": "stdout",
     "output_type": "stream",
     "text": [
      "Nome em letras maiúsculas: ALEXANDRE TOMMASI ALVES\n",
      "Nome em letras minúsculas: alexandre tommasi alves\n",
      "Quantidade total de caracteres no nome (desconsiderando os espaços): 21\n",
      "Nome com o último sobrenome alterado: Alexandre Tommasi do Inatel\n"
     ]
    }
   ],
   "source": [
    "# Exercício 1\n",
    "\n",
    "# Solicitando o nome completo ao usuário\n",
    "nome_completo = input(\"Informe seu nome completo: \")\n",
    "\n",
    "# Exibindo o nome todo em letras maiúsculas\n",
    "print(\"Nome em letras maiúsculas:\", nome_completo.upper())\n",
    "\n",
    "# Exibindo o nome todo em letras minúsculas\n",
    "print(\"Nome em letras minúsculas:\", nome_completo.lower())\n",
    "\n",
    "# Calculando o número de caracteres, excluindo os espaços\n",
    "total_caracteres = len(nome_completo.replace(\" \", \"\"))\n",
    "print(\"Quantidade total de caracteres no nome (desconsiderando os espaços):\", total_caracteres)\n",
    "\n",
    "# Modificando o último sobrenome para \"do Inatel\"\n",
    "partes_nome = nome_completo.rsplit(\" \", 1)\n",
    "partes_nome[-1] = \"do Inatel\"\n",
    "nome_modificado = \" \".join(partes_nome)\n",
    "print(\"Nome com o último sobrenome alterado:\", nome_modificado)\n"
   ]
  },
  {
   "cell_type": "code",
   "execution_count": null,
   "metadata": {},
   "outputs": [
    {
     "name": "stdout",
     "output_type": "stream",
     "text": [
      "5 multiplicado por 1 é igual a 5\n",
      "5 multiplicado por 2 é igual a 10\n",
      "5 multiplicado por 3 é igual a 15\n",
      "5 multiplicado por 4 é igual a 20\n",
      "5 multiplicado por 5 é igual a 25\n",
      "5 multiplicado por 6 é igual a 30\n",
      "5 multiplicado por 7 é igual a 35\n",
      "5 multiplicado por 8 é igual a 40\n",
      "5 multiplicado por 9 é igual a 45\n",
      "5 multiplicado por 10 é igual a 50\n"
     ]
    }
   ],
   "source": [
    "# Exercício 2\n",
    "\n",
    "# Solicitando ao usuário o número para a tabuada e o intervalo\n",
    "numero = int(input(\"Escolha um número para visualizar sua tabuada: \"))\n",
    "inicio_intervalo = int(input(\"Informe o início do intervalo: \"))\n",
    "final_intervalo = int(input(\"Informe o fim do intervalo: \"))\n",
    "\n",
    "# Exibindo a tabuada do número selecionado no intervalo informado\n",
    "for i in range(inicio_intervalo, final_intervalo + 1):\n",
    "    print(f\"{numero} multiplicado por {i} é igual a {numero * i}\")\n"
   ]
  },
  {
   "cell_type": "code",
   "execution_count": 13,
   "metadata": {},
   "outputs": [
    {
     "name": "stdout",
     "output_type": "stream",
     "text": [
      "Opção inválida! Por favor, digite M para masculino ou F para feminino.\n",
      "Você é mulher.\n"
     ]
    }
   ],
   "source": [
    "# Exercício 3\n",
    "\n",
    "# Loop até o usuário fornecer uma resposta válida\n",
    "while True:\n",
    "    sexo = input(\"Digite seu sexo (M para masculino ou F para feminino): \").upper()\n",
    "\n",
    "    if sexo == \"M\":\n",
    "        print(\"Você é homem.\")\n",
    "        break\n",
    "    elif sexo == \"F\":\n",
    "        print(\"Você é mulher.\")\n",
    "        break\n",
    "    else:\n",
    "        print(\"Opção inválida! Por favor, digite M para masculino ou F para feminino.\")\n"
   ]
  },
  {
   "cell_type": "code",
   "execution_count": null,
   "metadata": {},
   "outputs": [
    {
     "name": "stdout",
     "output_type": "stream",
     "text": [
      "O preço da sua viagem de 120.3 Kms é: 60.15 R$\n"
     ]
    }
   ],
   "source": [
    "# Exercício 4\n",
    "\n",
    "# Entrando com a distância da viagem em KM\n",
    "distancia = float(input(\"Digite a distância da viagem em KM: \"))\n",
    "\n",
    "# Calculando o preço da viagem\n",
    "if distancia <= 200:\n",
    "    preco_da_passagem = distancia * 0.5\n",
    "else:\n",
    "    preco_da_passagem = distancia * 0.45\n",
    "\n",
    "# Mostrando o preço da viagem\n",
    "print(f\"O preço da sua viagem de {distancia} Kms é: {preco_da_passagem} R$\")\n",
    "\n",
    "\n",
    "\n"
   ]
  },
  {
   "cell_type": "code",
   "execution_count": 19,
   "metadata": {},
   "outputs": [
    {
     "name": "stdout",
     "output_type": "stream",
     "text": [
      "Unidade: 8\n",
      "Dezena: 7\n",
      "Centena: 2\n",
      "Milhar: 3\n"
     ]
    }
   ],
   "source": [
    "# Exercício 5\n",
    "\n",
    "# Solicitando um número entre 1000 e 9999\n",
    "numero = int(input(\"Digite um número entre 1000 e 9999: \"))\n",
    "\n",
    "# Garantindo que o número esteja no intervalo correto\n",
    "if 1000 <= numero <= 9999:\n",
    "    unidade = numero % 10\n",
    "    dezena = (numero // 10) % 10\n",
    "    centena = (numero // 100) % 10\n",
    "    milhar = numero // 1000\n",
    "    \n",
    "    # Exibindo as partes do número\n",
    "    print(f\"Unidade: {unidade}\")\n",
    "    print(f\"Dezena: {dezena}\")\n",
    "    print(f\"Centena: {centena}\")\n",
    "    print(f\"Milhar: {milhar}\")\n",
    "else:\n",
    "    print(\"Número fora do intervalo! Por favor, digite um número entre 1000 e 9999.\")\n",
    "\n"
   ]
  },
  {
   "cell_type": "code",
   "execution_count": 20,
   "metadata": {},
   "outputs": [
    {
     "name": "stdout",
     "output_type": "stream",
     "text": [
      "A raiz quadrada de 0.5 é 0.71\n",
      "O teto de 0.5 é 1\n",
      "O chão de 0.5 é 0\n",
      "A parte inteira de 0.5 é 0\n"
     ]
    }
   ],
   "source": [
    "# Exercício 6\n",
    "\n",
    "import math\n",
    "\n",
    "# Solicitando um número decimal\n",
    "numero_decimal = float(input(\"Digite um número decimal: \"))\n",
    "\n",
    "# Calculando os resultados\n",
    "raiz_quadrada = math.sqrt(numero_decimal)\n",
    "teto = math.ceil(numero_decimal)\n",
    "chao = math.floor(numero_decimal)\n",
    "parte_inteira = int(numero_decimal)\n",
    "\n",
    "# Exibindo os resultados\n",
    "print(f\"A raiz quadrada de {numero_decimal} é {raiz_quadrada:.2f}\")\n",
    "print(f\"O teto de {numero_decimal} é {teto}\")\n",
    "print(f\"O chão de {numero_decimal} é {chao}\")\n",
    "print(f\"A parte inteira de {numero_decimal} é {parte_inteira}\")\n"
   ]
  }
 ],
 "metadata": {
  "kernelspec": {
   "display_name": "Python 3",
   "language": "python",
   "name": "python3"
  },
  "language_info": {
   "codemirror_mode": {
    "name": "ipython",
    "version": 3
   },
   "file_extension": ".py",
   "mimetype": "text/x-python",
   "name": "python",
   "nbconvert_exporter": "python",
   "pygments_lexer": "ipython3",
   "version": "3.13.0"
  }
 },
 "nbformat": 4,
 "nbformat_minor": 2
}
